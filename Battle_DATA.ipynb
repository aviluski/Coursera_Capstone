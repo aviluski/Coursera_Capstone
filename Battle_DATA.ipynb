{
 "cells": [
  {
   "cell_type": "markdown",
   "metadata": {},
   "source": [
    "***Data***\n",
    "\n",
    "The data necessary to answer the problem statement includes the locations and the types of venues around the Toronto city area.\n",
    "\n",
    "First, the locations of all existing Cocktail Bars  or Bars  in the Toronto city region will be extracted to survey the competition. Ideally, the new Cocktail Bar would be set up at a certain distance away from other existing Bars. Secondly, the locations of travel accommodations such as hotels, hostels and motels in the region will be obtained. This is to estimate the amount of visitors that would frequent the Cocktail Bar, based on the assumption that the clientele of the Cocktail bar would be mainly made up of travellers.\n",
    "\n",
    "A suitable location for the new Cocktail Bar would be at the centre of a cluster of hotels and hostels so as to maximise the business potential. A clustering algorithm would be performed on the locations of Cocktail Bar and hotels separately to find the concentration of both types of the establishments.\n",
    "\n",
    "Finally, the ideal location for setting up a new Cocktail Bar can be inferred based on the clustering result."
   ]
  },
  {
   "cell_type": "code",
   "execution_count": null,
   "metadata": {},
   "outputs": [],
   "source": []
  }
 ],
 "metadata": {
  "kernelspec": {
   "display_name": "Python 3",
   "language": "python",
   "name": "python3"
  },
  "language_info": {
   "codemirror_mode": {
    "name": "ipython",
    "version": 3
   },
   "file_extension": ".py",
   "mimetype": "text/x-python",
   "name": "python",
   "nbconvert_exporter": "python",
   "pygments_lexer": "ipython3",
   "version": "3.6.8"
  }
 },
 "nbformat": 4,
 "nbformat_minor": 2
}
