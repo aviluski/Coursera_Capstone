{
 "cells": [
  {
   "cell_type": "markdown",
   "metadata": {},
   "source": [
    "**Introduction / Business Problem**\n",
    "\n",
    "The city of Toronto is the largest city in Canada by population. This capital city of the province of Ontario is also one of Canada's leading tourism destinations. With its booming tourism industry, the city of Toronto receives a large volume of tourists and visitors every year. In the year 2017 alone, the Toronto area has recorded a whopping total of 43.7 million tourists.\n",
    "\n",
    "while in this project we had tasks related to new your and toronto ,\n",
    "from a culture trip report People preffer greatly New York night life and Cocktail Bar Scene\n",
    "\n",
    "This influx of visitors has propelled the burgeoning demand on hotels and hostels in the region. With the growth in travel accommodations, Cocktail bars to have a Local experiance  services would also be increasingly in demand. Investors interested in a business with low investment and high return can look to the business of Cocktail Bars in a city with a high tourist volume, such as Toronto. Tourists would often favour a \"Lively\" alternative than hotel Bar services, which explains the mushrooming of Cocktail Bars in tourist-rich cities.\n",
    "\n",
    "*Therefore, the problem statement is:*\n",
    "\n",
    "What is the best/most optimal place to set up a Cocktail Bar  in the city of Toronto that is in close proximity to travel accommodations and preferrably at a distance from other competing Bars?"
   ]
  },
  {
   "cell_type": "code",
   "execution_count": null,
   "metadata": {},
   "outputs": [],
   "source": []
  }
 ],
 "metadata": {
  "kernelspec": {
   "display_name": "Python 3",
   "language": "python",
   "name": "python3"
  },
  "language_info": {
   "codemirror_mode": {
    "name": "ipython",
    "version": 3
   },
   "file_extension": ".py",
   "mimetype": "text/x-python",
   "name": "python",
   "nbconvert_exporter": "python",
   "pygments_lexer": "ipython3",
   "version": "3.6.8"
  }
 },
 "nbformat": 4,
 "nbformat_minor": 2
}
